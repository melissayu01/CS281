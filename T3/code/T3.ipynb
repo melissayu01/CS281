{
 "cells": [
  {
   "cell_type": "code",
   "execution_count": null,
   "metadata": {
    "collapsed": true
   },
   "outputs": [],
   "source": [
    "%matplotlib inline\n",
    "\n",
    "# import scipy as sp\n",
    "# import numpy as np\n",
    "# np.set_printoptions(precision=4)\n",
    "\n",
    "import matplotlib\n",
    "import matplotlib.pyplot as plt\n",
    "import seaborn\n",
    "seaborn.set_context(\"talk\")"
   ]
  },
  {
   "cell_type": "code",
   "execution_count": null,
   "metadata": {
    "collapsed": false
   },
   "outputs": [],
   "source": [
    "\"\"\"\n",
    "1.\n",
    "\"\"\"\n",
    "import itertools\n",
    "import torch\n",
    "from torch.autograd import Variable\n",
    "torch.set_printoptions(precision=4)\n",
    "    \n",
    "class P1:\n",
    "    def __init__(self):\n",
    "        self.dtype = torch.FloatTensor\n",
    "        self.torch_of = lambda y: Variable(torch.Tensor(y).type(self.dtype), requires_grad=False)\n",
    "\n",
    "        # initial states\n",
    "        self.names = [\"SR\", \"YD\", \"MG\", \"ZH\", \"HS\", \"RS\", \"NZ\", \"YK\"]\n",
    "        self.indices = {name: i for i, name in enumerate(self.names)}\n",
    "        self.n = len(self.names)\n",
    "\n",
    "        # useful helper functions\n",
    "        self.name_of = lambda i: self.names[i]\n",
    "        self.index_of = lambda n: self.indices[n]\n",
    "        self.all_ys = lambda: map(self.torch_of, itertools.product(range(2), repeat=self.n))\n",
    "\n",
    "        # parameters of model\n",
    "        self.edges = [(self.index_of(s), self.index_of(t)) for (s, t) in\n",
    "                 [(\"MG\", \"RS\"), (\"YD\", \"RS\"), (\"RS\", \"ZH\"), \n",
    "                 (\"ZH\", \"YK\"), (\"ZH\", \"HS\"), (\"ZH\", \"NZ\")]\n",
    "                ]\n",
    "        self.theta_st = 2\n",
    "        self.theta_s = Variable(\n",
    "            torch.Tensor([2, -2, -2, -8, -2, 3, -2, 1]).type(self.dtype), \n",
    "            requires_grad=True\n",
    "        )\n",
    "        self.log_partition_cache = None\n",
    "\n",
    "    def log_potential(self, y):\n",
    "        edge_scores = (y[s] * self.theta_st * y[t] for s, t in self.edges)\n",
    "        node_scores = self.theta_s.dot(y)\n",
    "        return sum(edge_scores) + node_scores\n",
    "\n",
    "    def log_partition(self):\n",
    "        if self.log_partition_cache is None:\n",
    "            scores = [self.log_potential(y).exp() for y in self.all_ys()]\n",
    "            self.log_partition_cache = sum(scores).log()\n",
    "        return self.log_partition_cache\n",
    "\n",
    "    def marginals(self):\n",
    "        ps = lambda i: sum(((self.log_potential(y) - self.log_partition()).exp() \n",
    "              for y in self.all_ys() if y[i].data[0] == 1)).data[0]\n",
    "        return self.torch_of([ps(i) for i in range(self.n)])\n",
    "\n",
    "    def marginals_optim(self):\n",
    "        if self.theta_s.grad is None:\n",
    "            lpf = self.log_partition()\n",
    "            lpf.backward()\n",
    "        return self.theta_s.grad\n",
    "    \n",
    "    def get_test_y(self):\n",
    "        return self.torch_of([\n",
    "                int(i == self.index_of(\"RS\") or i == self.index_of(\"SR\")) \n",
    "                for i in range(self.n)\n",
    "            ])\n",
    "    \n",
    "p1 = P1()\n",
    "y = p1.get_test_y()\n",
    "\n",
    "print(p1.log_potential(y))\n",
    "print(p1.log_partition())\n",
    "print(p1.marginals(), p1.marginals_optim())"
   ]
  },
  {
   "cell_type": "code",
   "execution_count": null,
   "metadata": {
    "collapsed": true
   },
   "outputs": [],
   "source": []
  }
 ],
 "metadata": {
  "anaconda-cloud": {},
  "kernelspec": {
   "display_name": "Python [python3]",
   "language": "python",
   "name": "Python [python3]"
  },
  "language_info": {
   "codemirror_mode": {
    "name": "ipython",
    "version": 3
   },
   "file_extension": ".py",
   "mimetype": "text/x-python",
   "name": "python",
   "nbconvert_exporter": "python",
   "pygments_lexer": "ipython3",
   "version": "3.6.0"
  }
 },
 "nbformat": 4,
 "nbformat_minor": 0
}
